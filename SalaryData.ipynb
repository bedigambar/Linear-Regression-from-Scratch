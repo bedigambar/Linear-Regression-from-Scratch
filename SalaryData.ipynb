{
  "cells": [
    {
      "cell_type": "code",
      "execution_count": 1,
      "metadata": {
        "id": "gidXCqL5ARmC"
      },
      "outputs": [],
      "source": [
        "# Importing necessary libraries\n",
        "import numpy as np\n",
        "import pandas as pd\n",
        "import matplotlib.pyplot as plt\n",
        "from sklearn.model_selection import train_test_split\n",
        "from sklearn.metrics import mean_squared_error\n",
        "from sklearn.metrics import mean_absolute_error\n",
        "from sklearn.metrics import r2_score"
      ]
    },
    {
      "cell_type": "code",
      "execution_count": 2,
      "metadata": {
        "id": "FE74wv5NBFhJ"
      },
      "outputs": [],
      "source": [
        "# Loading the dataset\n",
        "salary_df = pd.read_csv('Salary_Data.csv')"
      ]
    },
    {
      "cell_type": "code",
      "execution_count": 3,
      "metadata": {
        "colab": {
          "base_uri": "https://localhost:8080/",
          "height": 206
        },
        "id": "r2hpVpr-DiNY",
        "outputId": "3d0763c6-c6b4-4970-dfe6-ee1cc6dbe0cf"
      },
      "outputs": [
        {
          "data": {
            "text/html": [
              "<div>\n",
              "<style scoped>\n",
              "    .dataframe tbody tr th:only-of-type {\n",
              "        vertical-align: middle;\n",
              "    }\n",
              "\n",
              "    .dataframe tbody tr th {\n",
              "        vertical-align: top;\n",
              "    }\n",
              "\n",
              "    .dataframe thead th {\n",
              "        text-align: right;\n",
              "    }\n",
              "</style>\n",
              "<table border=\"1\" class=\"dataframe\">\n",
              "  <thead>\n",
              "    <tr style=\"text-align: right;\">\n",
              "      <th></th>\n",
              "      <th>YearsExperience</th>\n",
              "      <th>Salary</th>\n",
              "    </tr>\n",
              "  </thead>\n",
              "  <tbody>\n",
              "    <tr>\n",
              "      <th>0</th>\n",
              "      <td>1.1</td>\n",
              "      <td>39343</td>\n",
              "    </tr>\n",
              "    <tr>\n",
              "      <th>1</th>\n",
              "      <td>1.3</td>\n",
              "      <td>46205</td>\n",
              "    </tr>\n",
              "    <tr>\n",
              "      <th>2</th>\n",
              "      <td>1.5</td>\n",
              "      <td>37731</td>\n",
              "    </tr>\n",
              "    <tr>\n",
              "      <th>3</th>\n",
              "      <td>2.0</td>\n",
              "      <td>43525</td>\n",
              "    </tr>\n",
              "    <tr>\n",
              "      <th>4</th>\n",
              "      <td>2.2</td>\n",
              "      <td>39891</td>\n",
              "    </tr>\n",
              "  </tbody>\n",
              "</table>\n",
              "</div>"
            ],
            "text/plain": [
              "   YearsExperience  Salary\n",
              "0              1.1   39343\n",
              "1              1.3   46205\n",
              "2              1.5   37731\n",
              "3              2.0   43525\n",
              "4              2.2   39891"
            ]
          },
          "execution_count": 3,
          "metadata": {},
          "output_type": "execute_result"
        }
      ],
      "source": [
        "salary_df.head()"
      ]
    },
    {
      "cell_type": "code",
      "execution_count": 4,
      "metadata": {
        "colab": {
          "base_uri": "https://localhost:8080/"
        },
        "id": "7dTeBz9hD5vW",
        "outputId": "07eca35e-d488-4e8a-f50f-597140f5dcae"
      },
      "outputs": [
        {
          "data": {
            "text/plain": [
              "(30, 2)"
            ]
          },
          "execution_count": 4,
          "metadata": {},
          "output_type": "execute_result"
        }
      ],
      "source": [
        "# Checking the dimensions of the DataFrame\n",
        "salary_df.shape"
      ]
    },
    {
      "cell_type": "code",
      "execution_count": 5,
      "metadata": {
        "colab": {
          "base_uri": "https://localhost:8080/",
          "height": 147
        },
        "id": "PEo7lzI9D_nX",
        "outputId": "eb827c25-6aed-490a-d8af-a9eedfab42e9"
      },
      "outputs": [
        {
          "data": {
            "text/plain": [
              "YearsExperience    0\n",
              "Salary             0\n",
              "dtype: int64"
            ]
          },
          "execution_count": 5,
          "metadata": {},
          "output_type": "execute_result"
        }
      ],
      "source": [
        "# Checking for any missing values\n",
        "salary_df.isnull().sum()"
      ]
    },
    {
      "cell_type": "code",
      "execution_count": 6,
      "metadata": {
        "id": "leaqogZYE0Rg"
      },
      "outputs": [],
      "source": [
        "# Separating the features\n",
        "X = salary_df.drop(['Salary'], axis=1)\n",
        "y = salary_df['Salary']"
      ]
    },
    {
      "cell_type": "code",
      "execution_count": 7,
      "metadata": {
        "id": "-J8GXlVh6jIj"
      },
      "outputs": [],
      "source": [
        "# Splitting the data into training and testing sets\n",
        "X_train, X_test, y_train, y_test = train_test_split(X, y, test_size=0.2, random_state=42)"
      ]
    },
    {
      "cell_type": "code",
      "execution_count": 8,
      "metadata": {
        "id": "DOMOTCpRx164"
      },
      "outputs": [],
      "source": [
        "# Defining a custom Linear Regression class\n",
        "class MyLinearRegression:\n",
        "\n",
        "  def __init__(self, lr = 0.01, n_iters = 1000):\n",
        "    self.lr = lr\n",
        "    self.n_iters = n_iters\n",
        "    self.weights = None\n",
        "    self.bias = None\n",
        "    self.cost_history = []\n",
        "\n",
        "  def compute_cost(self, y, y_pred, m):\n",
        "    return (1/(2*m))*np.sum((y_pred-y)**2)\n",
        "\n",
        "  def fit(self, X, y):\n",
        "    m, n = X.shape\n",
        "    self.weights = np.zeros(n)\n",
        "    self.bias = 0\n",
        "\n",
        "    # Gradient Descent loop\n",
        "    for _ in range(self.n_iters):\n",
        "      y_pred = np.dot(X, self.weights) + self.bias\n",
        "      cost = self.compute_cost(y, y_pred, m)\n",
        "      self.cost_history.append(cost)\n",
        "\n",
        "      # Calculate gradients for weights (dw) and bias (db)\n",
        "      dw = (1/m)*np.dot(X.T, (y_pred-y))\n",
        "      db = (1/m)*np.sum(y_pred - y)\n",
        "\n",
        "      # Update weights and bias using the learning rate and gradients\n",
        "      self.weights -= self.lr*dw\n",
        "      self.bias -= self.lr*db\n",
        "\n",
        "  def predict(self, X):\n",
        "    # Make predictions using the learned weights and bias\n",
        "    y_pred = np.dot(X, self.weights) + self.bias\n",
        "    return y_pred"
      ]
    },
    {
      "cell_type": "code",
      "execution_count": 9,
      "metadata": {
        "id": "ugrNRT5Azslo"
      },
      "outputs": [],
      "source": [
        "# Creating an instance of the custom MyLinearRegression model with default parameters\n",
        "mylr = MyLinearRegression()"
      ]
    },
    {
      "cell_type": "code",
      "execution_count": 10,
      "metadata": {
        "colab": {
          "base_uri": "https://localhost:8080/"
        },
        "id": "HML5YENY3bIQ",
        "outputId": "f59ed1dd-0d99-4174-f51f-42912b770d60"
      },
      "outputs": [
        {
          "name": "stdout",
          "output_type": "stream",
          "text": [
            "None\n",
            "None\n",
            "[]\n"
          ]
        }
      ],
      "source": [
        "# Printing the learned weights, bias and cost history of the trained model\n",
        "print(mylr.weights)\n",
        "print(mylr.bias)\n",
        "print(mylr.cost_history)"
      ]
    },
    {
      "cell_type": "code",
      "execution_count": 11,
      "metadata": {
        "id": "llF1eZFCzv02"
      },
      "outputs": [],
      "source": [
        "# Training the custom linear regression model using the training data\n",
        "mylr.fit(X_train, y_train)"
      ]
    },
    {
      "cell_type": "code",
      "execution_count": 12,
      "metadata": {
        "colab": {
          "base_uri": "https://localhost:8080/"
        },
        "id": "bixg8yfG0HAJ",
        "outputId": "baef472f-f68e-40d0-a905-2ea173085fb7"
      },
      "outputs": [
        {
          "name": "stdout",
          "output_type": "stream",
          "text": [
            "[123612.77454041 107983.2052094   62071.34529956  33742.7508871\n",
            "  44488.07980217  72816.67421463  51326.01638449  63048.19338275\n",
            "  62071.34529956 100168.42054389  35696.44705348  37650.14321986\n",
            " 110913.74945896  42534.3836358   92353.63587839 115797.9898749\n",
            "  80631.45888013 125566.47070678  89423.09162882  54256.56063405\n",
            "  61094.49721637  66955.5857155   81608.30696332  52302.86446768]\n"
          ]
        }
      ],
      "source": [
        "# Making predictions on the training data using the trained model\n",
        "y_pred_train = mylr.predict(X_train)\n",
        "print(y_pred_train)"
      ]
    },
    {
      "cell_type": "code",
      "execution_count": 13,
      "metadata": {
        "colab": {
          "base_uri": "https://localhost:8080/"
        },
        "id": "ozRE8JrN8hCs",
        "outputId": "6ee04795-739a-45e6-dc88-9b8a9e10d626"
      },
      "outputs": [
        {
          "name": "stdout",
          "output_type": "stream",
          "text": [
            "MSE on Training Set: 28375892.243814986\n",
            "RMSE on Training Set: 5326.90268766147\n",
            "R2 Score on Training Set: 0.9628737582957667\n"
          ]
        }
      ],
      "source": [
        "# Calculating evaluation metrics (MSE, RMSE, R2 Score) on the training set\n",
        "mse_train = np.mean((y_train - y_pred_train) ** 2)\n",
        "\n",
        "rmse_train = np.sqrt(mse_train)\n",
        "\n",
        "ss_res_train = np.sum((y_train - y_pred_train) ** 2)\n",
        "ss_tot_train = np.sum((y_train - np.mean(y_train)) ** 2)\n",
        "r2_train = 1 - (ss_res_train / ss_tot_train)\n",
        "\n",
        "\n",
        "print(\"MSE on Training Set:\", mse_train)\n",
        "print(\"RMSE on Training Set:\", rmse_train)\n",
        "print(\"R2 Score on Training Set:\", r2_train)"
      ]
    },
    {
      "cell_type": "code",
      "execution_count": 14,
      "metadata": {
        "colab": {
          "base_uri": "https://localhost:8080/"
        },
        "id": "5JKuORaA7BAG",
        "outputId": "0baf2db9-9073-420f-e87e-a539f7f162a8"
      },
      "outputs": [
        {
          "name": "stdout",
          "output_type": "stream",
          "text": [
            "[116774.83795809  70862.97804825 103098.96479346  74770.370381\n",
            "  54256.56063405  59140.80104999]\n"
          ]
        }
      ],
      "source": [
        "# Making predictions on the testing data using the trained model\n",
        "y_pred_test = mylr.predict(X_test)\n",
        "print(y_pred_test)"
      ]
    },
    {
      "cell_type": "code",
      "execution_count": 15,
      "metadata": {
        "colab": {
          "base_uri": "https://localhost:8080/"
        },
        "id": "dlpzOhLD7PsZ",
        "outputId": "3faf2c15-b557-4608-cdbe-78407359db86"
      },
      "outputs": [
        {
          "name": "stdout",
          "output_type": "stream",
          "text": [
            "MSE on Test Set: 52876610.79496228\n",
            "RMSE on Test Set: 7271.630545824112\n",
            "R2 Score on Test Set: 0.8964819289205342\n"
          ]
        }
      ],
      "source": [
        "# Calculating evaluation metrics (MSE, RMSE, R2 Score) on the testing set\n",
        "mse_test = np.mean((y_test - y_pred_test) ** 2)\n",
        "\n",
        "rmse_test = np.sqrt(mse_test)\n",
        "\n",
        "ss_res_test = np.sum((y_test - y_pred_test) ** 2)\n",
        "ss_tot_test = np.sum((y_test - np.mean(y_test)) ** 2)\n",
        "r2_test = 1 - (ss_res_test / ss_tot_test)\n",
        "\n",
        "print(\"MSE on Test Set:\", mse_test)\n",
        "print(\"RMSE on Test Set:\", rmse_test)\n",
        "print(\"R2 Score on Test Set:\", r2_test)"
      ]
    },
    {
      "cell_type": "code",
      "execution_count": 16,
      "metadata": {
        "colab": {
          "base_uri": "https://localhost:8080/",
          "height": 564
        },
        "id": "cy2hJVwK7TPB",
        "outputId": "8df9db01-4a43-4d3f-c5f1-9657b5c008a2"
      },
      "outputs": [
        {
          "data": {
            "image/png": "[encoded data removed]",
            "text/plain": [
              "<Figure size 800x600 with 1 Axes>"
            ]
          },
          "metadata": {},
          "output_type": "display_data"
        }
      ],
      "source": [
        "# Visualizing the training and testing data along with the best-fit line from the trained model\n",
        "plt.figure(figsize=(8, 6))\n",
        "plt.scatter(X_train, y_train, marker='x', color='blue', label='Training data')\n",
        "plt.scatter(X_test, y_test, marker='o', color='green', label='Testing data')\n",
        "plt.plot(X_train, mylr.predict(X_train), color='red', linewidth=2, label='Best fit line')\n",
        "plt.title('Salary vs Experience with Linear Regression Fit')\n",
        "plt.xlabel('Years of Experience')\n",
        "plt.ylabel('Salary')\n",
        "plt.legend()\n",
        "plt.show()"
      ]
    },
    {
      "cell_type": "code",
      "execution_count": 17,
      "metadata": {
        "colab": {
          "base_uri": "https://localhost:8080/",
          "height": 564
        },
        "id": "11cc3000",
        "outputId": "0bda4a80-0897-40cd-adcb-b068d912a447"
      },
      "outputs": [
        {
          "data": {
            "image/png": "[encoded data removed]",
            "text/plain": [
              "<Figure size 800x600 with 1 Axes>"
            ]
          },
          "metadata": {},
          "output_type": "display_data"
        }
      ],
      "source": [
        "# Plotting the cost history to visualize how the cost function decreased during training\n",
        "plt.figure(figsize=(8, 6))\n",
        "plt.plot(mylr.cost_history)\n",
        "plt.title('Cost Function History')\n",
        "plt.xlabel('Number of Iterations')\n",
        "plt.ylabel('Cost')\n",
        "plt.show()"
      ]
    },
    {
      "cell_type": "code",
      "execution_count": 18,
      "metadata": {
        "colab": {
          "base_uri": "https://localhost:8080/"
        },
        "id": "6517a759",
        "outputId": "9fae61bf-337b-4912-b31e-03697354c562"
      },
      "outputs": [
        {
          "name": "stdout",
          "output_type": "stream",
          "text": [
            "Predicted salary for 9.3 years of experience will be $113844.29370852595\n"
          ]
        }
      ],
      "source": [
        "# Example prediction-1\n",
        "predicted_salary_9_3 = 9.3 * mylr.weights[0] + mylr.bias\n",
        "print(f\"Predicted salary for 9.3 years of experience will be ${predicted_salary_9_3}\")"
      ]
    },
    {
      "cell_type": "code",
      "execution_count": 19,
      "metadata": {
        "colab": {
          "base_uri": "https://localhost:8080/"
        },
        "id": "d8f55eee",
        "outputId": "9da302cd-42b8-4483-bf2a-3dfa31ad66f2"
      },
      "outputs": [
        {
          "name": "stdout",
          "output_type": "stream",
          "text": [
            "Predicted salary for 5 years of experience will be $71839.82613143847\n"
          ]
        }
      ],
      "source": [
        "# Example prediction-2\n",
        "predicted_salary_5 = 5 * mylr.weights[0] + mylr.bias\n",
        "print(f\"Predicted salary for 5 years of experience will be ${predicted_salary_5}\")"
      ]
    }
  ],
  "metadata": {
    "colab": {
      "provenance": []
    },
    "kernelspec": {
      "display_name": "base",
      "language": "python",
      "name": "python3"
    },
    "language_info": {
      "codemirror_mode": {
        "name": "ipython",
        "version": 3
      },
      "file_extension": ".py",
      "mimetype": "text/x-python",
      "name": "python",
      "nbconvert_exporter": "python",
      "pygments_lexer": "ipython3",
      "version": "3.13.5"
    }
  },
  "nbformat": 4,
  "nbformat_minor": 0
}
